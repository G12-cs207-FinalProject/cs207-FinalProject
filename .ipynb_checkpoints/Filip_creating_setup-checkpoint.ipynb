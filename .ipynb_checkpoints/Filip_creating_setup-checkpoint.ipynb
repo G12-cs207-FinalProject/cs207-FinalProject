{
 "cells": [
  {
   "cell_type": "code",
   "execution_count": 5,
   "metadata": {},
   "outputs": [
    {
     "name": "stdout",
     "output_type": "stream",
     "text": [
      "Overwriting setup.py\n"
     ]
    }
   ],
   "source": [
    "%%file setup.py\n",
    "\n",
    "from setuptools import setup\n",
    "\n",
    "setup(name='chemkin',\n",
    "      version='0.1',\n",
    "      description='The best chemkin package',\n",
    "      url='https://github.com/G12-cs207-FinalProject/cs207-FinalProject.git',\n",
    "      author='Parser',\n",
    "      license='Harvard',\n",
    "      packages=['chemkin']\n",
    ")"
   ]
  },
  {
   "cell_type": "code",
   "execution_count": null,
   "metadata": {
    "collapsed": true
   },
   "outputs": [],
   "source": []
  }
 ],
 "metadata": {
  "kernelspec": {
   "display_name": "Python 3",
   "language": "python",
   "name": "python3"
  },
  "language_info": {
   "codemirror_mode": {
    "name": "ipython",
    "version": 3
   },
   "file_extension": ".py",
   "mimetype": "text/x-python",
   "name": "python",
   "nbconvert_exporter": "python",
   "pygments_lexer": "ipython3",
   "version": "3.6.1"
  }
 },
 "nbformat": 4,
 "nbformat_minor": 2
}
