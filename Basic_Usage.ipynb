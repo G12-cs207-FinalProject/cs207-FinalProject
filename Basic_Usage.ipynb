{
 "cells": [
  {
   "cell_type": "code",
   "execution_count": 1,
   "metadata": {
    "collapsed": true
   },
   "outputs": [],
   "source": [
    "# import libraries\n",
    "from chemkin import pckg_xml_path\n",
    "from chemkin.preprocessing.parse_xml import XmlParser\n",
    "from chemkin.reaction.elementary_rxn import ElementaryRxn\n",
    "from chemkin.viz import summary"
   ]
  },
  {
   "cell_type": "markdown",
   "metadata": {},
   "source": [
    "## Basic Usage"
   ]
  },
  {
   "cell_type": "code",
   "execution_count": 2,
   "metadata": {},
   "outputs": [
    {
     "name": "stdout",
     "output_type": "stream",
     "text": [
      "At T = 2500: \n",
      "\n",
      "The progress rates: \n",
      "[  1.80426143e+09   5.00000000e+03   6.18093098e+06]\n",
      "\n",
      "The reaction rates: \n",
      "[ -1.80426143e+09  -1.81043736e+09   3.61469878e+09   6.17593098e+06\n",
      "  -6.17593098e+06]\n"
     ]
    }
   ],
   "source": [
    "Ti = [2500]\n",
    "xi = [2.0, 1.0, 0.5, 1.0, 1.0]  # Initial concentrations\n",
    "xml_parser = XmlParser(pckg_xml_path('rxns_hw5')) # input xml file\n",
    "\n",
    "parsed_data_list = xml_parser.parsed_data_list(Ti) # Parse xml\n",
    "\n",
    "for i, parsed_data in enumerate(parsed_data_list):\n",
    "    # Get parsed reaction data\n",
    "    species = parsed_data['species']\n",
    "    ki = parsed_data['ki']\n",
    "    b_ki = parsed_data['b_ki']\n",
    "    sys_vi_p = parsed_data['sys_vi_p']\n",
    "    sys_vi_dp = parsed_data['sys_vi_dp']\n",
    "    is_reversible = parsed_data['is_reversible']\n",
    "    T = parsed_data['T']\n",
    "    \n",
    "    # Get progress rates & reaction rates\n",
    "    rxn = ElementaryRxn(ki, b_ki, xi, sys_vi_p, sys_vi_dp)\n",
    "    progress_rates = rxn.progress_rate()\n",
    "    rxn_rates = rxn.reaction_rate()\n",
    "    print('At T = {}: '.format(Ti[i]))\n",
    "    print('\\nThe progress rates: ')\n",
    "    print(progress_rates)\n",
    "    print('\\nThe reaction rates: ')\n",
    "    print(rxn_rates)"
   ]
  },
  {
   "cell_type": "markdown",
   "metadata": {},
   "source": [
    "## One More Level of Abstraction"
   ]
  },
  {
   "cell_type": "code",
   "execution_count": 3,
   "metadata": {},
   "outputs": [
    {
     "name": "stdout",
     "output_type": "stream",
     "text": [
      "------At Temperature 2500 K------\n",
      "     H : -2.4081673376e+14\n",
      "     O : -1.5885953972e+13\n",
      "     OH : 3.22268792909e+14\n",
      "     H2 : 6.41189812893e+13\n",
      "     H2O : 4.70126660046e+13\n",
      "     O2 : -2.74831634318e+13\n",
      "     HO2 : 5.28617565897e+12\n",
      "     H2O2 : -1.54500764698e+14\n",
      "--------------------------------\n"
     ]
    }
   ],
   "source": [
    "Ti = [2500]\n",
    "xi = [2., 1., .5, 1., 1., 1., .5, 1.] # Initial concentrations\n",
    "xml_parser = XmlParser(pckg_xml_path('rxns_reversible')) # input xml file\n",
    "\n",
    "parsed_data_list = xml_parser.parsed_data_list(Ti) # Parse xml\n",
    "test_flag = summary.print_reaction_rate(parsed_data_list, xi) # Print reaction rates"
   ]
  },
  {
   "cell_type": "markdown",
   "metadata": {},
   "source": [
    "## Examples"
   ]
  },
  {
   "cell_type": "markdown",
   "metadata": {},
   "source": [
    "**Example 1:** Irreversible Reactions\n",
    "\n",
    "Input xml: `rxns_irreversible.xml`\n",
    "\n",
    "T = 900K\n",
    "\n",
    "| Species | Initial Concentrations | Expected Reaction Rates |\n",
    "|---------|------------------------|-------------------------|\n",
    "|   H     | 5.0000000000000000e-01 | -1.2191204233198564e+13 |\n",
    "|   O     | 0.0000000000000000e+00 | 1.2191204233198564e+13  |\n",
    "|   OH    | 0.0000000000000000e+00 | 1.2191204233198564e+13  |\n",
    "|   H2    | 2.0000000000000000e+00 | 0.0000000000000000e+00  |\n",
    "|   H2O   | 0.0000000000000000e+00 | 0.0000000000000000e+00  |\n",
    "|   O2    | 1.0000000000000000e+00 | -1.2191204233198564e+13 |\n",
    "|   HO2   | 0.0000000000000000e+00 | 0.0000000000000000e+00  |\n",
    "|   H2O2  | 0.0000000000000000e+00 | 0.0000000000000000e+00  |\n"
   ]
  },
  {
   "cell_type": "code",
   "execution_count": 4,
   "metadata": {},
   "outputs": [
    {
     "name": "stdout",
     "output_type": "stream",
     "text": [
      "------At Temperature 900 K------\n",
      "     H : -1.21897012607e+13\n",
      "     O : 1.21897012607e+13\n",
      "     OH : 1.21897012607e+13\n",
      "     H2 : 0.0\n",
      "     H2O : 0.0\n",
      "     O2 : -1.21897012607e+13\n",
      "     HO2 : 0.0\n",
      "     H2O2 : 0.0\n",
      "--------------------------------\n"
     ]
    }
   ],
   "source": [
    "Ti = [900]\n",
    "\n",
    "# Initial Concentrations\n",
    "xi = [5.0000000000000000e-01, \n",
    "      0.0000000000000000e+00, \n",
    "      0.0000000000000000e+00, \n",
    "      2.0000000000000000e+00,\n",
    "      0.0000000000000000e+00,\n",
    "      1.0000000000000000e+00,\n",
    "      0.0000000000000000e+00,\n",
    "      0.0000000000000000e+00]\n",
    "\n",
    "# Parse XML and compute reaction rates\n",
    "xml_parser = XmlParser(pckg_xml_path('rxns_irreversible'))\n",
    "parsed_data_list = xml_parser.parsed_data_list(Ti)\n",
    "test_flag = summary.print_reaction_rate(parsed_data_list, xi)"
   ]
  },
  {
   "cell_type": "markdown",
   "metadata": {},
   "source": [
    "**Example 2:** Irreversible Reactions\n",
    "\n",
    "Input xml: `rxns_irreversible.xml`\n",
    "\n",
    "T = 2500K\n",
    "\n",
    "| Species | Initial Concentrations | Expected Reaction Rates |\n",
    "|---------|------------------------|-------------------------|\n",
    "|   H     | 5.0000000000000000e-01 | -3.3300992971255586e+13 |\n",
    "|   O     | 0.0000000000000000e+00 |  3.3300992971255586e+13 |\n",
    "|   OH    | 0.0000000000000000e+00 |  3.3300992971255586e+13 |\n",
    "|   H2    | 2.0000000000000000e+00 |  0.0000000000000000e+00 |\n",
    "|   H2O   | 0.0000000000000000e+00 |  0.0000000000000000e+00 |\n",
    "|   O2    | 1.0000000000000000e+00 | -3.3300992971255586e+13 |\n",
    "|   HO2   | 0.0000000000000000e+00 |  0.0000000000000000e+00 |\n",
    "|   H2O2  | 0.0000000000000000e+00 |  0.0000000000000000e+00 |"
   ]
  },
  {
   "cell_type": "code",
   "execution_count": 5,
   "metadata": {},
   "outputs": [
    {
     "name": "stdout",
     "output_type": "stream",
     "text": [
      "------At Temperature 2500 K------\n",
      "     H : -3.32995149481e+13\n",
      "     O : 3.32995149481e+13\n",
      "     OH : 3.32995149481e+13\n",
      "     H2 : 0.0\n",
      "     H2O : 0.0\n",
      "     O2 : -3.32995149481e+13\n",
      "     HO2 : 0.0\n",
      "     H2O2 : 0.0\n",
      "--------------------------------\n"
     ]
    }
   ],
   "source": [
    "Ti = [2500]\n",
    "\n",
    "# Initial Concentrations\n",
    "xi = [5.0000000000000000e-01,\n",
    "      0.0000000000000000e+00,\n",
    "      0.0000000000000000e+00,\n",
    "      2.0000000000000000e+00,\n",
    "      0.0000000000000000e+00,\n",
    "      1.0000000000000000e+00,\n",
    "      0.0000000000000000e+00,\n",
    "      0.0000000000000000e+00] \n",
    "\n",
    "# Parse XML and compute reaction rates\n",
    "xml_parser = XmlParser(pckg_xml_path('rxns_irreversible'))\n",
    "parsed_data_list = xml_parser.parsed_data_list(Ti)\n",
    "test_flag = summary.print_reaction_rate(parsed_data_list, xi)"
   ]
  },
  {
   "cell_type": "markdown",
   "metadata": {},
   "source": [
    "**Example 3:** Reversible Reactions\n",
    "\n",
    "Input xml: `rxns_reversible.xml`\n",
    "\n",
    "T = 900K\n",
    "\n",
    "| Species | Initial Concentrations | Expected Reaction Rates |\n",
    "|---------|------------------------|-------------------------|\n",
    "|   H     | 5.0000000000000000e-01 | -1.2191204233195393e+13 |\n",
    "|   O     | 0.0000000000000000e+00 |  1.2191204233198564e+13 |\n",
    "|   OH    | 0.0000000000000000e+00 |  1.2191204233198564e+13 |\n",
    "|   H2    | 2.0000000000000000e+00 | -3.1727992431566578e+00 |\n",
    "|   H2O   | 0.0000000000000000e+00 |  0.0000000000000000e+00 |\n",
    "|   O2    | 1.0000000000000000e+00 | -1.2191204233201736e+13 |\n",
    "|   HO2   | 0.0000000000000000e+00 |  3.1727992431566578e+00 |\n",
    "|   H2O2  | 0.0000000000000000e+00 |  0.0000000000000000e+00 |"
   ]
  },
  {
   "cell_type": "code",
   "execution_count": 6,
   "metadata": {},
   "outputs": [
    {
     "name": "stdout",
     "output_type": "stream",
     "text": [
      "------At Temperature 900 K------\n",
      "     H : -1.21897012607e+13\n",
      "     O : 1.21897012607e+13\n",
      "     OH : 1.21897012607e+13\n",
      "     H2 : -3.13225590372\n",
      "     H2O : 0.0\n",
      "     O2 : -1.21897012607e+13\n",
      "     HO2 : 3.13225590372\n",
      "     H2O2 : 0.0\n",
      "--------------------------------\n"
     ]
    }
   ],
   "source": [
    "Ti = [900]\n",
    "\n",
    "# Initial Concentrations\n",
    "xi = [5.0000000000000000e-01,\n",
    "      0.0000000000000000e+00,\n",
    "      0.0000000000000000e+00,\n",
    "      2.0000000000000000e+00,\n",
    "      0.0000000000000000e+00,\n",
    "      1.0000000000000000e+00,\n",
    "      0.0000000000000000e+00,\n",
    "      0.0000000000000000e+00]\n",
    "\n",
    "# Parse XML and compute reaction rates\n",
    "xml_parser = XmlParser(pckg_xml_path('rxns_reversible'))\n",
    "parsed_data_list = xml_parser.parsed_data_list(Ti)\n",
    "test_flag = summary.print_reaction_rate(parsed_data_list, xi)"
   ]
  },
  {
   "cell_type": "markdown",
   "metadata": {},
   "source": [
    "**Example 4:** Reversible Reactions\n",
    "\n",
    "Input xml: `rxns_reversible.xml`\n",
    "\n",
    "T = 2500K\n",
    "\n",
    "| Species | Initial Concentrations | Expected Reaction Rates |\n",
    "|---------|------------------------|-------------------------|\n",
    "|   H     | 5.0000000000000000e-01 | -3.3299453222970820e+13 |\n",
    "|   O     | 0.0000000000000000e+00 |  3.3300992971255586e+13 |\n",
    "|   OH    | 0.0000000000000000e+00 |  3.3300992971255586e+13 |\n",
    "|   H2    | 2.0000000000000000e+00 | -1.5397482847664728e+09 |\n",
    "|   H2O   | 0.0000000000000000e+00 |  0.0000000000000000e+00 |\n",
    "|   O2    | 1.0000000000000000e+00 | -3.3302532719540352e+13 |\n",
    "|   HO2   | 0.0000000000000000e+00 |  1.5397482847664728e+09 |\n",
    "|   H2O2  | 0.0000000000000000e+00 |  0.0000000000000000e+00 |"
   ]
  },
  {
   "cell_type": "code",
   "execution_count": 7,
   "metadata": {},
   "outputs": [
    {
     "name": "stdout",
     "output_type": "stream",
     "text": [
      "------At Temperature 2500 K------\n",
      "     H : -3.32979930966e+13\n",
      "     O : 3.32995149481e+13\n",
      "     OH : 3.32995149481e+13\n",
      "     H2 : -1521851498.18\n",
      "     H2O : 0.0\n",
      "     O2 : -3.33010367996e+13\n",
      "     HO2 : 1521851498.18\n",
      "     H2O2 : 0.0\n",
      "--------------------------------\n"
     ]
    }
   ],
   "source": [
    "Ti = [2500]\n",
    "\n",
    "# Initial Concentrations\n",
    "xi = [5.0000000000000000e-01,\n",
    "      0.0000000000000000e+00,\n",
    "      0.0000000000000000e+00,\n",
    "      2.0000000000000000e+00,\n",
    "      0.0000000000000000e+00,\n",
    "      1.0000000000000000e+00,\n",
    "      0.0000000000000000e+00,\n",
    "      0.0000000000000000e+00]\n",
    "\n",
    "# Parse XML and compute reaction rates\n",
    "xml_parser = XmlParser(pckg_xml_path('rxns_reversible'))\n",
    "parsed_data_list = xml_parser.parsed_data_list(Ti)\n",
    "test_flag = summary.print_reaction_rate(parsed_data_list, xi)"
   ]
  },
  {
   "cell_type": "markdown",
   "metadata": {},
   "source": [
    "**Example 5:** Mixed Reversible and Irreversible Reactions\n",
    "\n",
    "Input xml: `rxns_mixed.xml`\n",
    "\n",
    "T = 2500K "
   ]
  },
  {
   "cell_type": "code",
   "execution_count": 8,
   "metadata": {},
   "outputs": [
    {
     "name": "stdout",
     "output_type": "stream",
     "text": [
      "------At Temperature 2500 K------\n",
      "     H : -3.32995149481e+13\n",
      "     O : 3.32995149481e+13\n",
      "     OH : 3.32995149481e+13\n",
      "     H2 : 0.0\n",
      "     H2O : 0.0\n",
      "     O2 : -3.32995149481e+13\n",
      "     HO2 : 0.0\n",
      "     H2O2 : 0.0\n",
      "--------------------------------\n"
     ]
    }
   ],
   "source": [
    "Ti = [2500]\n",
    "\n",
    "# Initial Concentrations\n",
    "xi = [5.0000000000000000e-01,\n",
    "      0.0000000000000000e+00,\n",
    "      0.0000000000000000e+00,\n",
    "      2.0000000000000000e+00,\n",
    "      0.0000000000000000e+00,\n",
    "      1.0000000000000000e+00,\n",
    "      0.0000000000000000e+00,\n",
    "      0.0000000000000000e+00]\n",
    "\n",
    "# Parse XML and compute reaction rates\n",
    "xml_parser = XmlParser(pckg_xml_path('rxns_mixed'))\n",
    "parsed_data_list = xml_parser.parsed_data_list(Ti)\n",
    "test_flag = summary.print_reaction_rate(parsed_data_list, xi)"
   ]
  },
  {
   "cell_type": "code",
   "execution_count": null,
   "metadata": {
    "collapsed": true
   },
   "outputs": [],
   "source": []
  }
 ],
 "metadata": {
  "kernelspec": {
   "display_name": "Python 3",
   "language": "python",
   "name": "python3"
  },
  "language_info": {
   "codemirror_mode": {
    "name": "ipython",
    "version": 3
   },
   "file_extension": ".py",
   "mimetype": "text/x-python",
   "name": "python",
   "nbconvert_exporter": "python",
   "pygments_lexer": "ipython3",
   "version": "3.6.1"
  }
 },
 "nbformat": 4,
 "nbformat_minor": 2
}
