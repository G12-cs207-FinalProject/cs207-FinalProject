{
 "cells": [
  {
   "cell_type": "code",
   "execution_count": 1,
   "metadata": {
    "collapsed": true
   },
   "outputs": [],
   "source": [
    "# import libraries\n",
    "from chemkin import pckg_xml_path\n",
    "from chemkin.preprocessing.parse_xml import XmlParser\n",
    "from chemkin.reaction.elementary_rxn import ElementaryRxn\n",
    "from chemkin.viz import summary"
   ]
  },
  {
   "cell_type": "markdown",
   "metadata": {},
   "source": [
    "## Irreversible Reactions"
   ]
  },
  {
   "cell_type": "code",
   "execution_count": 3,
   "metadata": {},
   "outputs": [
    {
     "name": "stdout",
     "output_type": "stream",
     "text": [
      "------At Temperature 900 K------\n",
      "     H : -1.21897012607e+13\n",
      "     O : 1.21897012607e+13\n",
      "     OH : 1.21897012607e+13\n",
      "     H2 : 0.0\n",
      "     H2O : 0.0\n",
      "     O2 : -1.21897012607e+13\n",
      "     HO2 : 0.0\n",
      "     H2O2 : 0.0\n",
      "--------------------------------\n"
     ]
    },
    {
     "data": {
      "text/plain": [
       "0"
      ]
     },
     "execution_count": 3,
     "metadata": {},
     "output_type": "execute_result"
    }
   ],
   "source": [
    "# T = 900.0000000000000000\n",
    "\n",
    "# Species: H  O  OH  H2  H2O  O2  HO2  H2O2\n",
    "\n",
    "# Initial Concentrations:\n",
    "#    5.0000000000000000e-01\n",
    "#    0.0000000000000000e+00\n",
    "#    0.0000000000000000e+00\n",
    "#    2.0000000000000000e+00\n",
    "#    0.0000000000000000e+00\n",
    "#    1.0000000000000000e+00\n",
    "#    0.0000000000000000e+00\n",
    "#    0.0000000000000000e+00\n",
    "\n",
    "\n",
    "# Species Reaction Rates\n",
    "# (The f(x) in dx/dt = f(x))\n",
    "#   -1.2191204233198564e+13\n",
    "#    1.2191204233198564e+13\n",
    "#    1.2191204233198564e+13\n",
    "#    0.0000000000000000e+00\n",
    "#    0.0000000000000000e+00\n",
    "#   -1.2191204233198564e+13\n",
    "#    0.0000000000000000e+00\n",
    "#    0.0000000000000000e+00\n",
    "# ::::::::::::::::::::::::::::::::::::::::::::::::::::::\n",
    "\n",
    "Ti = [900]\n",
    "\n",
    "# Initial Concentrations\n",
    "xi = [5.0000000000000000e-01, \n",
    "      0.0000000000000000e+00, \n",
    "      0.0000000000000000e+00, \n",
    "      2.0000000000000000e+00,\n",
    "      0.0000000000000000e+00,\n",
    "      1.0000000000000000e+00,\n",
    "      0.0000000000000000e+00,\n",
    "      0.0000000000000000e+00]  # specie concentrations for 'rxns_hw5.xml'\n",
    "\n",
    "# Parse XML and compute reaction rates\n",
    "xml_parser = XmlParser(pckg_xml_path('rxns_irreversible'))\n",
    "parsed_data_list = xml_parser.parsed_data_list(Ti)\n",
    "summary.print_reaction_rate(parsed_data_list, xi)"
   ]
  },
  {
   "cell_type": "code",
   "execution_count": 4,
   "metadata": {},
   "outputs": [
    {
     "name": "stdout",
     "output_type": "stream",
     "text": [
      "------At Temperature 2500 K------\n",
      "     H : -3.32995149481e+13\n",
      "     O : 3.32995149481e+13\n",
      "     OH : 3.32995149481e+13\n",
      "     H2 : 0.0\n",
      "     H2O : 0.0\n",
      "     O2 : -3.32995149481e+13\n",
      "     HO2 : 0.0\n",
      "     H2O2 : 0.0\n",
      "--------------------------------\n"
     ]
    },
    {
     "data": {
      "text/plain": [
       "0"
      ]
     },
     "execution_count": 4,
     "metadata": {},
     "output_type": "execute_result"
    }
   ],
   "source": [
    "# T = 2500.0000000000000000\n",
    "\n",
    "# Species: H  O  OH  H2  H2O  O2  HO2  H2O2\n",
    "\n",
    "# Initial Concentrations:\n",
    "#    5.0000000000000000e-01\n",
    "#    0.0000000000000000e+00\n",
    "#    0.0000000000000000e+00\n",
    "#    2.0000000000000000e+00\n",
    "#    0.0000000000000000e+00\n",
    "#    1.0000000000000000e+00\n",
    "#    0.0000000000000000e+00\n",
    "#    0.0000000000000000e+00\n",
    "\n",
    "\n",
    "# Species Reaction Rates\n",
    "# (The f(x) in dx/dt = f(x))\n",
    "#   -3.3300992971255586e+13\n",
    "#    3.3300992971255586e+13\n",
    "#    3.3300992971255586e+13\n",
    "#    0.0000000000000000e+00\n",
    "#    0.0000000000000000e+00\n",
    "#   -3.3300992971255586e+13\n",
    "#    0.0000000000000000e+00\n",
    "#    0.0000000000000000e+00\n",
    "# ::::::::::::::::::::::::::::::::::::::::::::::::::::::\n",
    "\n",
    "Ti = [2500]\n",
    "\n",
    "# Initial Concentrations\n",
    "xi = [5.0000000000000000e-01,\n",
    "      0.0000000000000000e+00,\n",
    "      0.0000000000000000e+00,\n",
    "      2.0000000000000000e+00,\n",
    "      0.0000000000000000e+00,\n",
    "      1.0000000000000000e+00,\n",
    "      0.0000000000000000e+00,\n",
    "      0.0000000000000000e+00]  # specie concentrations for 'rxns_hw5.xml'\n",
    "\n",
    "# Parse XML and compute reaction rates\n",
    "xml_parser = XmlParser(pckg_xml_path('rxns_irreversible'))\n",
    "parsed_data_list = xml_parser.parsed_data_list(Ti)\n",
    "summary.print_reaction_rate(parsed_data_list, xi)"
   ]
  },
  {
   "cell_type": "markdown",
   "metadata": {},
   "source": [
    "## Reversible Reactions"
   ]
  },
  {
   "cell_type": "code",
   "execution_count": null,
   "metadata": {
    "collapsed": true
   },
   "outputs": [],
   "source": []
  }
 ],
 "metadata": {
  "kernelspec": {
   "display_name": "Python 3",
   "language": "python",
   "name": "python3"
  },
  "language_info": {
   "codemirror_mode": {
    "name": "ipython",
    "version": 3
   },
   "file_extension": ".py",
   "mimetype": "text/x-python",
   "name": "python",
   "nbconvert_exporter": "python",
   "pygments_lexer": "ipython3",
   "version": "3.6.1"
  }
 },
 "nbformat": 4,
 "nbformat_minor": 2
}
