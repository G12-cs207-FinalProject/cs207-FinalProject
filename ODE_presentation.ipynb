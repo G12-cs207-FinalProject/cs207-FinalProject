{
 "cells": [
  {
   "cell_type": "markdown",
   "metadata": {},
   "source": [
    "## Motivation of the final feature"
   ]
  },
  {
   "cell_type": "markdown",
   "metadata": {},
   "source": [
    "*  Visualize the change in species concentration over time.\n",
    "*   Identify time for each reaction to reach equilibrium as well as the time when the overall chemical system achieves equilibrium (i.e., reaction completion).\n",
    "*   Get the concentrations at some end time ($t_{end}$) for each specie."
   ]
  },
  {
   "cell_type": "markdown",
   "metadata": {},
   "source": [
    "## Implementation"
   ]
  },
  {
   "cell_type": "markdown",
   "metadata": {},
   "source": [
    "<br>** ODE_int_solver class with solve() method:**</br>\n",
    "\n",
    "<br><i>- Input:</i></br> \n",
    "\n",
    " - The time interval (a list of floats) over which the ODE numerical integrator (``scipy.integrate.odeint`) will iteratively solve for the concentration of reaction species over time.\n",
    "\n",
    "<br><i>- Output:</i></br> \n",
    "\n",
    " - Solution: the list of lists (type: numpy array) for concentrations of each specie over the specified time interval.\n",
    " - Time for each reaction to reach equilibrium\n",
    " - Time for the overall system to reach equilibrium\n",
    "\n",
    "**Differentiable function:**\n",
    "\n",
    "``rxn_rate():`` function ``(dx/dt)`` passed to the ODE solver to perform the numerical integration. \n",
    "\n",
    "Once the difference of backward and forward coefficients falls below a pre-defined threshold, the respective species time to reach equilibrium and in similar manner the overall reaction equilibrium time are recorded.\n",
    "\n",
    "**Codeflow**\n",
    "\n",
    "<i>Initialization:</i> Starting species concentrations stored as the attribute ``xi`` of the ``ElementaryRxn`` object. \n",
    "\n",
    "<i>Iteration:</i> Numerical integration of the concentration ``xi`` attribute of the passed ElementaryRxn object via the ``rxn_rate()`` function. \n",
    "\n",
    "<i>Update:</i> New reaction rates of the ``ElementaryRxn`` based on updated concentrations are calculated via ``ElementaryRxn`` object method reaction_rate.\n",
    "\n",
    "<i>Termination:</i>\n",
    "\n",
    "   a) Either a specie concentration reaches 0 (reactant is exhausted)\n",
    "   \n",
    "   b) Max iterations are reached"
   ]
  },
  {
   "cell_type": "code",
   "execution_count": 12,
   "metadata": {
    "collapsed": true
   },
   "outputs": [],
   "source": [
    "# Imports\n",
    "from chemkin import pckg_xml_path\n",
    "from chemkin.preprocessing.parse_xml import XmlParser\n",
    "from chemkin.viz import summary\n",
    "\n",
    "# Demo vars.\n",
    "Ti = [900, 1200]\n",
    "xi = [2., 1., .5, 1., 1., 1., .5, 1.] # initial species concentrations"
   ]
  },
  {
   "cell_type": "markdown",
   "metadata": {},
   "source": [
    "### Load reaction data"
   ]
  },
  {
   "cell_type": "code",
   "execution_count": 13,
   "metadata": {
    "collapsed": true
   },
   "outputs": [],
   "source": [
    "xml_parser = XmlParser(pckg_xml_path('rxns_reversible'))\n",
    "parsed_data_list = xml_parser.parsed_data_list(Ti)"
   ]
  },
  {
   "cell_type": "markdown",
   "metadata": {},
   "source": [
    "### Uncovering evolution of species concentrations"
   ]
  },
  {
   "cell_type": "code",
   "execution_count": 14,
   "metadata": {},
   "outputs": [
    {
     "name": "stdout",
     "output_type": "stream",
     "text": [
      "------At Temperature 900 K------\n",
      "Specie Concentration at time = 1e-12\n",
      "  H: start = 2.0, end = 1.723901712597415\n",
      "  O: start = 1.0, end = 0.23872213644765622\n",
      "  OH: start = 0.5, end = 0.027139067877998888\n",
      "  H2: start = 1.0, end = 1.1618557607172413\n",
      "  H2O: start = 1.0, end = 2.4626238490452628\n",
      "  O2: start = 1.0, end = 2.385757473314534\n",
      "  HO2: start = 0.5, end = 6.056885759728584e-14\n",
      "  H2O2: start = 1.0, end = 6.5724287182009025e-19\n",
      "--------------------------------\n",
      "\n",
      "------At Temperature 1200 K------\n",
      "Specie Concentration at time = 1e-12\n",
      "  H: start = 2.0, end = 1.9538032981613929\n",
      "  O: start = 1.0, end = 0.5278645607330008\n",
      "  OH: start = 0.5, end = 0.11295484939689653\n",
      "  H2: start = 1.0, end = 0.48495306737938\n",
      "  H2O: start = 1.0, end = 2.9816678587895793\n",
      "  O2: start = 1.0, end = 1.938756365436045\n",
      "  HO2: start = 0.5, end = 1.0415791472535397e-10\n",
      "  H2O2: start = 1.0, end = 7.403259412001975e-15\n",
      "--------------------------------\n",
      "\n"
     ]
    }
   ],
   "source": [
    "# Print concentrations of species over time.\n",
    "summary.print_species_concentration(parsed_data_list, xi);"
   ]
  },
  {
   "cell_type": "code",
   "execution_count": 4,
   "metadata": {},
   "outputs": [
    {
     "data": {
      "text/plain": [
       "0"
      ]
     },
     "execution_count": 4,
     "metadata": {},
     "output_type": "execute_result"
    }
   ],
   "source": [
    "# Plot concentrations of species over time.\n",
    "summary.plot_species_concentration(parsed_data_list, xi)"
   ]
  },
  {
   "cell_type": "markdown",
   "metadata": {},
   "source": [
    "### Solving for time to equilibrium"
   ]
  },
  {
   "cell_type": "code",
   "execution_count": 15,
   "metadata": {},
   "outputs": [
    {
     "name": "stdout",
     "output_type": "stream",
     "text": [
      "------At Temperature 900 K------\n",
      "Time to Equilibrium (end_t = 10000000000.0)\n",
      "  Reaction #0: 1.7710385756438292e-05\n",
      "  Reaction #1: 1.7710385756438292e-05\n",
      "  Reaction #2: 1.773464177804173e-07\n",
      "  Reaction #3: 1.773464177804173e-07\n",
      "  Reaction #4: 2.1808938174999524e-11\n",
      "  Reaction #5: 2.1808938174999524e-11\n",
      "  Reaction #6: 1.743709840167672e-11\n",
      "  Reaction #7: 1.4245072821790747e-11\n",
      "  Reaction #8: 8.557334002807858e-13\n",
      "  Reaction #9: 1.3523084464099764e-12\n",
      "  Reaction #10: 7.872345307371005e-13\n",
      "\n",
      "Overall Time to Equilibrium: 1.7710385756438292e-05\n",
      "--------------------------------\n",
      "\n",
      "------At Temperature 1200 K------\n",
      "Time to Equilibrium (end_t = 10000000000.0)\n",
      "  Reaction #0: 3.126864884028917e-07\n",
      "  Reaction #1: Not yet reached equilibrium.\n",
      "  Reaction #2: Not yet reached equilibrium.\n",
      "  Reaction #3: 3.123279658039082e-05\n",
      "  Reaction #4: 6.700771563582419e-12\n",
      "  Reaction #5: 9.169623237571868e-12\n",
      "  Reaction #6: 6.264916397611427e-12\n",
      "  Reaction #7: 6.046988814625931e-12\n",
      "  Reaction #8: 3.385218939861411e-12\n",
      "  Reaction #9: 3.385218939861411e-12\n",
      "  Reaction #10: 2.6031402223038483e-12\n",
      "\n",
      "Overall Time to Equilibrium: 3.126864884028917e-07\n",
      "--------------------------------\n",
      "\n"
     ]
    },
    {
     "data": {
      "text/plain": [
       "0"
      ]
     },
     "execution_count": 15,
     "metadata": {},
     "output_type": "execute_result"
    }
   ],
   "source": [
    "# Print time to equilibrium.\n",
    "summary.print_time_to_equilibrium(parsed_data_list, xi)"
   ]
  },
  {
   "cell_type": "code",
   "execution_count": null,
   "metadata": {},
   "outputs": [],
   "source": [
    "# Plot time to equilibrium.\n",
    "summary.plot_time_to_equilibrium(parsed_data_list, xi)"
   ]
  },
  {
   "cell_type": "code",
   "execution_count": null,
   "metadata": {
    "collapsed": true
   },
   "outputs": [],
   "source": []
  }
 ],
 "metadata": {
  "kernelspec": {
   "display_name": "Python 3",
   "language": "python",
   "name": "python3"
  },
  "language_info": {
   "codemirror_mode": {
    "name": "ipython",
    "version": 3
   },
   "file_extension": ".py",
   "mimetype": "text/x-python",
   "name": "python",
   "nbconvert_exporter": "python",
   "pygments_lexer": "ipython3",
   "version": "3.6.1"
  }
 },
 "nbformat": 4,
 "nbformat_minor": 2
}
