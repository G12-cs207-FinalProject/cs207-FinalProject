{
 "cells": [
  {
   "cell_type": "code",
   "execution_count": 1,
   "metadata": {},
   "outputs": [],
   "source": [
    "# Imports\n",
    "from chemkin import pckg_xml_path\n",
    "from chemkin.preprocessing.parse_xml import XmlParser\n",
    "from chemkin.viz import summary\n",
    "\n",
    "# Demo vars.\n",
    "Ti = [900, 2500]\n",
    "xi = [2., 1., .5, 1., 1., 1., .5, 1.] # initial species concentrations"
   ]
  },
  {
   "cell_type": "markdown",
   "metadata": {},
   "source": [
    "### Load reaction data"
   ]
  },
  {
   "cell_type": "code",
   "execution_count": 2,
   "metadata": {},
   "outputs": [],
   "source": [
    "xml_parser = XmlParser(pckg_xml_path('rxns_reversible'))\n",
    "parsed_data_list = xml_parser.parsed_data_list(Ti)"
   ]
  },
  {
   "cell_type": "markdown",
   "metadata": {},
   "source": [
    "### Uncovering evolution of species concentrations"
   ]
  },
  {
   "cell_type": "code",
   "execution_count": 5,
   "metadata": {},
   "outputs": [
    {
     "name": "stdout",
     "output_type": "stream",
     "text": [
      "------At Temperature 900 K------\n",
      "Specie Concentration at time = 1e-12\n",
      "  H: start = 2.0, end = 1.7239017125971747\n",
      "  O: start = 1.0, end = 0.23872213644765483\n",
      "  OH: start = 0.5, end = 0.027139067877997025\n",
      "  H2: start = 1.0, end = 1.1618557607171227\n",
      "  H2O: start = 1.0, end = 2.4626238490450003\n",
      "  O2: start = 1.0, end = 2.385757473314731\n",
      "  HO2: start = 0.5, end = 6.056885759730247e-14\n",
      "  H2O2: start = 1.0, end = 6.572428855989658e-19\n",
      "--------------------------------\n",
      "\n",
      "------At Temperature 2500 K------\n",
      "Specie Concentration at time = 1e-12\n",
      "  H: start = 2.0, end = 1.2148570014216886\n",
      "  O: start = 1.0, end = 0.9791302354930477\n",
      "  OH: start = 0.5, end = 0.9111019320202484\n",
      "  H2: start = 1.0, end = 0.7430549709243639\n",
      "  H2O: start = 1.0, end = 2.6939438877946014\n",
      "  O2: start = 1.0, end = 1.4578690352649595\n",
      "  HO2: start = 0.5, end = 4.252504205019055e-05\n",
      "  H2O2: start = 1.0, end = 4.12039040775719e-07\n",
      "--------------------------------\n",
      "\n"
     ]
    }
   ],
   "source": [
    "# Print concentrations of species over time.\n",
    "summary.print_species_concentration(parsed_data_list, xi);"
   ]
  },
  {
   "cell_type": "code",
   "execution_count": 4,
   "metadata": {},
   "outputs": [
    {
     "data": {
      "text/plain": [
       "0"
      ]
     },
     "execution_count": 4,
     "metadata": {},
     "output_type": "execute_result"
    }
   ],
   "source": [
    "# Plot concentrations of species over time.\n",
    "summary.plot_species_concentration(parsed_data_list, xi)"
   ]
  },
  {
   "cell_type": "markdown",
   "metadata": {},
   "source": [
    "### Solving for time to equilibrium"
   ]
  },
  {
   "cell_type": "code",
   "execution_count": null,
   "metadata": {},
   "outputs": [],
   "source": [
    "# Print time to equilibrium.\n",
    "summary.print_time_to_equilibrium(parsed_data_list, xi)"
   ]
  },
  {
   "cell_type": "code",
   "execution_count": null,
   "metadata": {},
   "outputs": [],
   "source": [
    "# Plot time to equilibrium.\n",
    "summary.plot_time_to_equilibrium(parsed_data_list, xi)"
   ]
  }
 ],
 "metadata": {
  "kernelspec": {
   "display_name": "Python 3",
   "language": "python",
   "name": "python3"
  },
  "language_info": {
   "codemirror_mode": {
    "name": "ipython",
    "version": 3
   },
   "file_extension": ".py",
   "mimetype": "text/x-python",
   "name": "python",
   "nbconvert_exporter": "python",
   "pygments_lexer": "ipython3",
   "version": "3.5.2"
  }
 },
 "nbformat": 4,
 "nbformat_minor": 2
}
